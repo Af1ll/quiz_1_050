{
  "nbformat": 4,
  "nbformat_minor": 0,
  "metadata": {
    "colab": {
      "provenance": []
    },
    "kernelspec": {
      "name": "python3",
      "display_name": "Python 3"
    },
    "language_info": {
      "name": "python"
    }
  },
  "cells": [
    {
      "cell_type": "code",
      "execution_count": null,
      "metadata": {
        "colab": {
          "base_uri": "https://localhost:8080/"
        },
        "id": "b2CB_nUdtJMM",
        "outputId": "b0d8e697-6dca-4c45-f9ee-15f3bfb8254e"
      },
      "outputs": [
        {
          "output_type": "stream",
          "name": "stdout",
          "text": [
            "Elemen Terbesar: 100, Elemen Terkecil: 12\n",
            "Transpose matriks:\n",
            "[34, 72, 61]\n",
            "[100, 24, 20]\n",
            "[12, 55, 19]\n",
            "Hasil Perkalian Transpose:\n",
            "[11300, 5508, 4302]\n",
            "[5508, 8785, 5917]\n",
            "[4302, 5917, 4482]\n",
            "Hasil Penjumlahan Transpose:\n",
            "[68, 172, 73]\n",
            "[172, 48, 75]\n",
            "[73, 75, 38]\n"
          ]
        }
      ],
      "source": [
        "class MatrixOperations:\n",
        "\n",
        "    def __init__(self, matrix):\n",
        "        self.matrix = matrix\n",
        "\n",
        "    def find_max_min(self):\n",
        "        max_value = self.matrix[0][0]\n",
        "        min_value = self.matrix[0][0]\n",
        "\n",
        "        for i in range(len(self.matrix)):\n",
        "            for j in range(len(self.matrix[0])):\n",
        "                if self.matrix[i][j] > max_value:\n",
        "                    max_value = self.matrix[i][j]\n",
        "                if self.matrix[i][j] < min_value:\n",
        "                    min_value = self.matrix[i][j]\n",
        "\n",
        "        return max_value, min_value\n",
        "\n",
        "    def transpose(self):\n",
        "        transposed_matrix = [[0 for _ in range(len(self.matrix))] for _ in range(len(self.matrix[0]))]\n",
        "\n",
        "        for i in range(len(self.matrix)):\n",
        "            for j in range(len(self.matrix[0])):\n",
        "                transposed_matrix[j][i] = self.matrix[i][j]\n",
        "\n",
        "        return transposed_matrix\n",
        "\n",
        "    def multiply(self, other):\n",
        "        if len(self.matrix[0]) != len(other):\n",
        "            return \"Matriks tidak dapat dikalikan\"\n",
        "\n",
        "        result_matrix = [[0 for _ in range(len(other[0]))] for _ in range(len(self.matrix))]\n",
        "\n",
        "        for i in range(len(self.matrix)):\n",
        "            for j in range(len(other[0])):\n",
        "                for k in range(len(other)):\n",
        "                    result_matrix[i][j] += self.matrix[i][k] * other[k][j]\n",
        "\n",
        "        return result_matrix\n",
        "\n",
        "    def add(self, other):\n",
        "        if len(self.matrix) != len(other) or len(self.matrix[0]) != len(other[0]):\n",
        "            return \"Matriks tidak dapat ditambahkan\"\n",
        "\n",
        "        result_matrix = [[0 for _ in range(len(self.matrix[0]))] for _ in range(len(self.matrix))]\n",
        "\n",
        "        for i in range(len(self.matrix)):\n",
        "            for j in range(len(self.matrix[0])):\n",
        "                result_matrix[i][j] = self.matrix[i][j] + other[i][j]\n",
        "\n",
        "        return result_matrix\n",
        "\n",
        "\n",
        "if __name__ == \"__main__\":\n",
        "    matrix = [\n",
        "        [34, 100, 12],\n",
        "        [72, 24, 55],\n",
        "        [61, 20, 19]\n",
        "    ]\n",
        "\n",
        "    matrix_operations = MatrixOperations(matrix)\n",
        "\n",
        "    max_value, min_value = matrix_operations.find_max_min()\n",
        "    print(f\"Elemen Terbesar: {max_value}, Elemen Terkecil: {min_value}\")\n",
        "\n",
        "    transposed_matrix = matrix_operations.transpose()\n",
        "    print(\"Transpose matriks:\")\n",
        "    for row in transposed_matrix:\n",
        "        print(row)\n",
        "\n",
        "    result_matrix = matrix_operations.multiply(transposed_matrix)\n",
        "    print(\"Hasil Perkalian Transpose:\")\n",
        "    for row in result_matrix:\n",
        "        print(row)\n",
        "\n",
        "    result_matrix = matrix_operations.add(transposed_matrix)\n",
        "    print(\"Hasil Penjumlahan Transpose:\")\n",
        "    for row in result_matrix:\n",
        "        print(row)"
      ]
    }
  ]
}